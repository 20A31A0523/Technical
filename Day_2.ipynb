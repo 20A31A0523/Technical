{
  "nbformat": 4,
  "nbformat_minor": 0,
  "metadata": {
    "colab": {
      "provenance": [],
      "authorship_tag": "ABX9TyP44ZGRto8XRxVbP2SOt8ZD",
      "include_colab_link": true
    },
    "kernelspec": {
      "name": "python3",
      "display_name": "Python 3"
    },
    "language_info": {
      "name": "python"
    }
  },
  "cells": [
    {
      "cell_type": "markdown",
      "metadata": {
        "id": "view-in-github",
        "colab_type": "text"
      },
      "source": [
        "<a href=\"https://colab.research.google.com/github/20A31A0523/Technical/blob/main/Day_2.ipynb\" target=\"_parent\"><img src=\"https://colab.research.google.com/assets/colab-badge.svg\" alt=\"Open In Colab\"/></a>"
      ]
    },
    {
      "cell_type": "code",
      "source": [
        "num=int(input(\"enter the number:\"))\n",
        "i=0\n",
        "sum=0\n",
        "while(i<=num):\n",
        "    if i%2==0:\n",
        "       sum=sum+i\n",
        "    i=i+1\n",
        "print(\"sum of even numbers until 10=\",sum)"
      ],
      "metadata": {
        "id": "IdcrsT1-RWY5",
        "colab": {
          "base_uri": "https://localhost:8080/"
        },
        "outputId": "991ef566-8eb8-4fc6-f479-332d67a0ae6b"
      },
      "execution_count": null,
      "outputs": [
        {
          "output_type": "stream",
          "name": "stdout",
          "text": [
            "enter the number:10\n",
            "sum of even numbers until 10= 30\n"
          ]
        }
      ]
    },
    {
      "cell_type": "markdown",
      "source": [],
      "metadata": {
        "id": "H208ms56UrIW"
      }
    },
    {
      "cell_type": "code",
      "source": [
        "# write a program to calculate number of even numbers and number of odd numbers sum in a range\n",
        "n=int(input(\"enter range:\"))\n",
        "esum=0\n",
        "osum=0\n",
        "i=0\n",
        "while(i<=n):\n",
        "  if i%2==0:\n",
        "    esum=esum+i\n",
        "  else:\n",
        "    osum=osum+i\n",
        "  i=i+1\n",
        "print(\"even numbers:\",esum)\n",
        "print(\"odd numbers:\",osum)\n"
      ],
      "metadata": {
        "colab": {
          "base_uri": "https://localhost:8080/"
        },
        "id": "ertaqdCoU_ps",
        "outputId": "d58622e3-3332-46e9-ac5a-79fce27594c7"
      },
      "execution_count": null,
      "outputs": [
        {
          "output_type": "stream",
          "name": "stdout",
          "text": [
            "enter range:10\n",
            "even numbers: 30\n",
            "odd numbers: 25\n"
          ]
        }
      ]
    },
    {
      "cell_type": "code",
      "source": [
        "# write a program to reverse a number\n",
        "num=int(input(\"enter number:\"))\n",
        "temp=0\n",
        "while(num!=0):\n",
        "  temp=num%10\n",
        "  print(temp)\n",
        "  num=num//10"
      ],
      "metadata": {
        "colab": {
          "base_uri": "https://localhost:8080/"
        },
        "id": "homg82IzXifE",
        "outputId": "36c3acaa-3363-4f40-d487-c24eb54601d0"
      },
      "execution_count": null,
      "outputs": [
        {
          "output_type": "stream",
          "name": "stdout",
          "text": [
            "enter number:10\n",
            "0\n",
            "1\n"
          ]
        }
      ]
    },
    {
      "cell_type": "code",
      "source": [
        "# write a program to convert decimal number to binary number\n",
        "dn=int(input(\"enter number:\"))\n",
        "bn=0\n",
        "i=0\n",
        "while (dn!=0):\n",
        "  r=dn%2\n",
        "  bn=bn + r*(10**i)\n",
        "  dn=dn//2\n",
        "  i+=1\n",
        "print(bn)"
      ],
      "metadata": {
        "colab": {
          "base_uri": "https://localhost:8080/"
        },
        "id": "BHf73Sdhc-m0",
        "outputId": "39b734c6-3d68-496d-ca07-8cccddc2577c"
      },
      "execution_count": null,
      "outputs": [
        {
          "output_type": "stream",
          "name": "stdout",
          "text": [
            "enter number:14\n",
            "1110\n"
          ]
        }
      ]
    },
    {
      "cell_type": "code",
      "source": [
        "#range with one parameter(start,N-1)\n",
        "#range with two parameters(start,end,difference)\n",
        "for i in range(11):\n",
        "  print(i,end=\" \")"
      ],
      "metadata": {
        "colab": {
          "base_uri": "https://localhost:8080/"
        },
        "id": "tajqRRYk7JsA",
        "outputId": "abeb4947-1561-4562-baaf-d0a0ddd98951"
      },
      "execution_count": null,
      "outputs": [
        {
          "output_type": "stream",
          "name": "stdout",
          "text": [
            "0 1 2 3 4 5 6 7 8 9 10 "
          ]
        }
      ]
    },
    {
      "cell_type": "code",
      "source": [
        "# program for math tables\n",
        "n=int(input(\"enter a number:\"))\n",
        "print(\"MULTIPLICATION TABLE OF\",n)\n",
        "print(\"--------------------------------\")\n",
        "for i in range(1,11):\n",
        "  print(n,\" X\",i,\"=\",n*i)"
      ],
      "metadata": {
        "colab": {
          "base_uri": "https://localhost:8080/"
        },
        "id": "bl85qeBg82lB",
        "outputId": "feb02d59-53a1-4a18-9967-11e81bb0a12d"
      },
      "execution_count": null,
      "outputs": [
        {
          "output_type": "stream",
          "name": "stdout",
          "text": [
            "enter a number:5\n",
            "MULTIPLICATION TABLE OF 5\n",
            "--------------------------------\n",
            "5  X 1 = 5\n",
            "5  X 2 = 10\n",
            "5  X 3 = 15\n",
            "5  X 4 = 20\n",
            "5  X 5 = 25\n",
            "5  X 6 = 30\n",
            "5  X 7 = 35\n",
            "5  X 8 = 40\n",
            "5  X 9 = 45\n",
            "5  X 10 = 50\n"
          ]
        }
      ]
    },
    {
      "cell_type": "code",
      "source": [
        "# write a program to calculate factorial of a given number\n",
        "n=int(input())\n",
        "fact=1\n",
        "for i in range(1,n+1):\n",
        "  fact=fact*i\n",
        "print(\"factorial value of\",n,\"is\",fact)"
      ],
      "metadata": {
        "colab": {
          "base_uri": "https://localhost:8080/"
        },
        "id": "RlOaDWLr9nHb",
        "outputId": "b0b4ee07-0da3-4402-ea29-c9b27b75c144"
      },
      "execution_count": null,
      "outputs": [
        {
          "output_type": "stream",
          "name": "stdout",
          "text": [
            "3\n",
            "factorial value of 3 is 6\n"
          ]
        }
      ]
    },
    {
      "cell_type": "code",
      "source": [
        "# write a program to print factorial series\n",
        "n=int(input())\n",
        "s=0.0\n",
        "for i in range(1,n+1):\n",
        "  a=1.0/1\n",
        "  s=s+a\n",
        "print(s)"
      ],
      "metadata": {
        "colab": {
          "base_uri": "https://localhost:8080/"
        },
        "id": "KhGCivON_YVF",
        "outputId": "15908fa7-ff02-470b-d61f-926045c4b6fe"
      },
      "execution_count": null,
      "outputs": [
        {
          "output_type": "stream",
          "name": "stdout",
          "text": [
            "5\n",
            "5.0\n"
          ]
        }
      ]
    },
    {
      "cell_type": "code",
      "source": [
        "# program to print series sum for 1/2+2/3+3/4+...........n/n+1\n",
        "n=int(input())\n",
        "s=0.0\n",
        "for i in range(1,n+1):\n",
        "  d=i/(i+1)\n",
        "  s=s+d\n",
        "print(s)"
      ],
      "metadata": {
        "colab": {
          "base_uri": "https://localhost:8080/"
        },
        "id": "Hctoad7GBKgN",
        "outputId": "3e1b9c60-e8e2-4a60-a3b6-985c0bb6231d"
      },
      "execution_count": null,
      "outputs": [
        {
          "output_type": "stream",
          "name": "stdout",
          "text": [
            "7\n",
            "5.2821428571428575\n"
          ]
        }
      ]
    },
    {
      "cell_type": "code",
      "source": [
        "# write a program to find the difference between odd index and even index values for a number 1227\n",
        "n=int(input(\"enter the number:\"))\n",
        "e =0\n",
        "o=0\n",
        "while n!=0:\n",
        "  rem=n%10\n",
        "  e=e+rem\n",
        "  n=n//10\n",
        "  rem=n%10\n",
        "  o=o+rem\n",
        "  n=n//10\n",
        "print(abs(e-o))"
      ],
      "metadata": {
        "colab": {
          "base_uri": "https://localhost:8080/"
        },
        "id": "XrmTgv9zCBww",
        "outputId": "2f53f0d3-f940-4b47-a2c8-a02ccb905d6c"
      },
      "execution_count": null,
      "outputs": [
        {
          "output_type": "stream",
          "name": "stdout",
          "text": [
            "enter the number:1227\n",
            "6\n"
          ]
        }
      ]
    },
    {
      "cell_type": "code",
      "source": [
        "# given a maximum of four digit to the bases 17(10-A,11-B,12-C,13-D.........16-G)as input and output its decimal value\n",
        "n=str(input())\n",
        "print(int(n,17))"
      ],
      "metadata": {
        "colab": {
          "base_uri": "https://localhost:8080/"
        },
        "id": "BYh365GEL0gj",
        "outputId": "1fa49081-e0de-4e88-e7ac-919acce15986"
      },
      "execution_count": null,
      "outputs": [
        {
          "output_type": "stream",
          "name": "stdout",
          "text": [
            "14\n",
            "21\n"
          ]
        }
      ]
    },
    {
      "cell_type": "code",
      "source": [
        "a=[1,2,3,4,5,6]\n",
        "for i in a:\n",
        "  if i==4:\n",
        "    break\n",
        "  print(i)"
      ],
      "metadata": {
        "colab": {
          "base_uri": "https://localhost:8080/"
        },
        "id": "WXBt_IO_OIPX",
        "outputId": "00ff9839-837c-4880-c541-1abbd7893150"
      },
      "execution_count": null,
      "outputs": [
        {
          "output_type": "stream",
          "name": "stdout",
          "text": [
            "1\n",
            "2\n",
            "3\n"
          ]
        }
      ]
    },
    {
      "cell_type": "code",
      "source": [
        "# using pass\n",
        "for letter in \"mouni\":\n",
        "  pass\n",
        "  print(\"pass:\",letter)"
      ],
      "metadata": {
        "colab": {
          "base_uri": "https://localhost:8080/"
        },
        "id": "h50FqFK4O4nA",
        "outputId": "49a80de3-676e-4794-9bf2-8a4611ede6b2"
      },
      "execution_count": null,
      "outputs": [
        {
          "output_type": "stream",
          "name": "stdout",
          "text": [
            "pass: m\n",
            "pass: o\n",
            "pass: u\n",
            "pass: n\n",
            "pass: i\n"
          ]
        }
      ]
    },
    {
      "cell_type": "code",
      "source": [
        "# calender problem\n",
        "import calendar\n",
        "n=int(input(\"enter the year:\"))\n",
        "m=1\n",
        "cal=calendar.TextCalendar(calendar.SUNDAY)\n",
        "i=1\n",
        "while i<=12:\n",
        "  cal.pr month(n,i)\n",
        "  i=i+1"
      ],
      "metadata": {
        "colab": {
          "base_uri": "https://localhost:8080/"
        },
        "id": "FNq28itrTm1X",
        "outputId": "e5b6de61-34ec-46eb-c9c3-bdf03e86c74d"
      },
      "execution_count": null,
      "outputs": [
        {
          "output_type": "stream",
          "name": "stdout",
          "text": [
            "enter the year:2023\n",
            "    January 2023\n",
            "Su Mo Tu We Th Fr Sa\n",
            " 1  2  3  4  5  6  7\n",
            " 8  9 10 11 12 13 14\n",
            "15 16 17 18 19 20 21\n",
            "22 23 24 25 26 27 28\n",
            "29 30 31\n",
            "   February 2023\n",
            "Su Mo Tu We Th Fr Sa\n",
            "          1  2  3  4\n",
            " 5  6  7  8  9 10 11\n",
            "12 13 14 15 16 17 18\n",
            "19 20 21 22 23 24 25\n",
            "26 27 28\n",
            "     March 2023\n",
            "Su Mo Tu We Th Fr Sa\n",
            "          1  2  3  4\n",
            " 5  6  7  8  9 10 11\n",
            "12 13 14 15 16 17 18\n",
            "19 20 21 22 23 24 25\n",
            "26 27 28 29 30 31\n",
            "     April 2023\n",
            "Su Mo Tu We Th Fr Sa\n",
            "                   1\n",
            " 2  3  4  5  6  7  8\n",
            " 9 10 11 12 13 14 15\n",
            "16 17 18 19 20 21 22\n",
            "23 24 25 26 27 28 29\n",
            "30\n",
            "      May 2023\n",
            "Su Mo Tu We Th Fr Sa\n",
            "    1  2  3  4  5  6\n",
            " 7  8  9 10 11 12 13\n",
            "14 15 16 17 18 19 20\n",
            "21 22 23 24 25 26 27\n",
            "28 29 30 31\n",
            "     June 2023\n",
            "Su Mo Tu We Th Fr Sa\n",
            "             1  2  3\n",
            " 4  5  6  7  8  9 10\n",
            "11 12 13 14 15 16 17\n",
            "18 19 20 21 22 23 24\n",
            "25 26 27 28 29 30\n",
            "     July 2023\n",
            "Su Mo Tu We Th Fr Sa\n",
            "                   1\n",
            " 2  3  4  5  6  7  8\n",
            " 9 10 11 12 13 14 15\n",
            "16 17 18 19 20 21 22\n",
            "23 24 25 26 27 28 29\n",
            "30 31\n",
            "    August 2023\n",
            "Su Mo Tu We Th Fr Sa\n",
            "       1  2  3  4  5\n",
            " 6  7  8  9 10 11 12\n",
            "13 14 15 16 17 18 19\n",
            "20 21 22 23 24 25 26\n",
            "27 28 29 30 31\n",
            "   September 2023\n",
            "Su Mo Tu We Th Fr Sa\n",
            "                1  2\n",
            " 3  4  5  6  7  8  9\n",
            "10 11 12 13 14 15 16\n",
            "17 18 19 20 21 22 23\n",
            "24 25 26 27 28 29 30\n",
            "    October 2023\n",
            "Su Mo Tu We Th Fr Sa\n",
            " 1  2  3  4  5  6  7\n",
            " 8  9 10 11 12 13 14\n",
            "15 16 17 18 19 20 21\n",
            "22 23 24 25 26 27 28\n",
            "29 30 31\n",
            "   November 2023\n",
            "Su Mo Tu We Th Fr Sa\n",
            "          1  2  3  4\n",
            " 5  6  7  8  9 10 11\n",
            "12 13 14 15 16 17 18\n",
            "19 20 21 22 23 24 25\n",
            "26 27 28 29 30\n",
            "   December 2023\n",
            "Su Mo Tu We Th Fr Sa\n",
            "                1  2\n",
            " 3  4  5  6  7  8  9\n",
            "10 11 12 13 14 15 16\n",
            "17 18 19 20 21 22 23\n",
            "24 25 26 27 28 29 30\n",
            "31\n"
          ]
        }
      ]
    }
  ]
}