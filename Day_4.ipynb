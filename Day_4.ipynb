{
  "nbformat": 4,
  "nbformat_minor": 0,
  "metadata": {
    "colab": {
      "provenance": [],
      "authorship_tag": "ABX9TyNSuDFwrsNdPXe2Mff1XNr/",
      "include_colab_link": true
    },
    "kernelspec": {
      "name": "python3",
      "display_name": "Python 3"
    },
    "language_info": {
      "name": "python"
    }
  },
  "cells": [
    {
      "cell_type": "markdown",
      "metadata": {
        "id": "view-in-github",
        "colab_type": "text"
      },
      "source": [
        "<a href=\"https://colab.research.google.com/github/20A31A0523/Technical/blob/main/Day_4.ipynb\" target=\"_parent\"><img src=\"https://colab.research.google.com/assets/colab-badge.svg\" alt=\"Open In Colab\"/></a>"
      ]
    },
    {
      "cell_type": "code",
      "execution_count": null,
      "metadata": {
        "colab": {
          "base_uri": "https://localhost:8080/"
        },
        "id": "WbC5mLHCXtF9",
        "outputId": "9d1dda46-13ae-48ec-d44e-504ab307138b"
      },
      "outputs": [
        {
          "output_type": "stream",
          "name": "stdout",
          "text": [
            "Gate Hate Iate Jate Kate Late "
          ]
        }
      ],
      "source": [
        "#abcderian series\n",
        "str1='GHIJKL'\n",
        "str2='ate'\n",
        "for i in str1:\n",
        "  print((i+str2),end=\" \")"
      ]
    },
    {
      "cell_type": "code",
      "source": [
        "# WRITE A PROGRAM TO EVALUATE LIST OF A CUBES TILL THE RANGE OF 10\n",
        "cubes=[]\n",
        "for i in range(11):\n",
        "  cubes.append(i**3)\n",
        "print(cubes)"
      ],
      "metadata": {
        "colab": {
          "base_uri": "https://localhost:8080/"
        },
        "id": "i2Rad8ulY-rr",
        "outputId": "28b4919a-1fbb-40d7-d3f8-c6f08e40830e"
      },
      "execution_count": null,
      "outputs": [
        {
          "output_type": "stream",
          "name": "stdout",
          "text": [
            "[0, 1, 8, 27, 64, 125, 216, 343, 512, 729, 1000]\n"
          ]
        }
      ]
    },
    {
      "cell_type": "code",
      "source": [
        "# WRITE A PROGRAM TO FIND THE SUM AND MEAN OF SERIES 0 TO 10\n",
        "list=[]\n",
        "sum=0\n",
        "mean=0\n",
        "for i in range(11):\n",
        "  sum=sum+i\n",
        "print(sum)\n",
        "mean=sum//10\n",
        "print(mean)"
      ],
      "metadata": {
        "colab": {
          "base_uri": "https://localhost:8080/"
        },
        "id": "YZYag1tOZcf-",
        "outputId": "4ed0d213-47e6-478f-cadd-c131a4378276"
      },
      "execution_count": null,
      "outputs": [
        {
          "output_type": "stream",
          "name": "stdout",
          "text": [
            "55\n",
            "5\n"
          ]
        }
      ]
    },
    {
      "cell_type": "code",
      "source": [
        "# OPERATIONS OF LIST\n",
        "list=[7,14,38,4,56]\n",
        "print(max(list))\n",
        "print(min(list))\n"
      ],
      "metadata": {
        "colab": {
          "base_uri": "https://localhost:8080/"
        },
        "id": "9TtXaq4DbEjF",
        "outputId": "9f59db64-a0a1-42c8-ddd0-00f4d2171d5e"
      },
      "execution_count": null,
      "outputs": [
        {
          "output_type": "stream",
          "name": "stdout",
          "text": [
            "56\n",
            "4\n"
          ]
        }
      ]
    },
    {
      "cell_type": "code",
      "source": [
        "# all,any,list,sort\n",
        "list=[11,4,14,7,2]\n",
        "print(sorted(list))\n",
        "list.append(10)\n",
        "print(list)\n",
        "print(list.count(2))\n",
        "list.insert(0,23)\n",
        "print(list)\n",
        "list.remove(4)\n",
        "print(list)"
      ],
      "metadata": {
        "colab": {
          "base_uri": "https://localhost:8080/"
        },
        "id": "XSr8uLO9dw_b",
        "outputId": "1c2e7cd7-ef63-4550-a3af-438bc8d36799"
      },
      "execution_count": null,
      "outputs": [
        {
          "output_type": "stream",
          "name": "stdout",
          "text": [
            "[2, 4, 7, 11, 14]\n",
            "[11, 4, 14, 7, 2, 10]\n",
            "1\n",
            "[23, 11, 4, 14, 7, 2, 10]\n",
            "[23, 11, 14, 7, 2, 10]\n"
          ]
        }
      ]
    },
    {
      "cell_type": "code",
      "source": [
        "# TOWER OF HANOI\n",
        "def hanoi(n,a,b,c):\n",
        "  if n>0:\n",
        "    hanoi(n-1,a,c,b)\n",
        "    if a:\n",
        "      c.append(a.pop())\n",
        "    hanoi(n-1,b,a,c)\n",
        "a=[1,2,3,4]\n",
        "b=[]\n",
        "c=[]\n",
        "hanoi(len(a),a,b,c)\n",
        "print(a,b,c)"
      ],
      "metadata": {
        "id": "hkj1cBP9iVus",
        "colab": {
          "base_uri": "https://localhost:8080/"
        },
        "outputId": "b98ea82b-c7e0-4b59-901f-a8bca85ad8dc"
      },
      "execution_count": null,
      "outputs": [
        {
          "output_type": "stream",
          "name": "stdout",
          "text": [
            "[] [] [1, 2, 3, 4]\n"
          ]
        }
      ]
    },
    {
      "cell_type": "code",
      "source": [
        "#OPERATIONS OF LIST\n",
        "#in\n",
        "#not in\n",
        "#repetition\n",
        "#concatenation\n",
        "str=[11,22,32,54,74]\n",
        "print(len(str))\n",
        "print(sum(str))"
      ],
      "metadata": {
        "colab": {
          "base_uri": "https://localhost:8080/"
        },
        "id": "DRYlOD0kLxjz",
        "outputId": "a562ffda-0267-4773-91bc-a88d2e2cced5"
      },
      "execution_count": null,
      "outputs": [
        {
          "output_type": "stream",
          "name": "stdout",
          "text": [
            "5\n",
            "193\n"
          ]
        }
      ]
    },
    {
      "cell_type": "code",
      "source": [
        "#reverse\n",
        "num=[1,2,3,4,5,6,7,8,9,10]\n",
        "num.reverse()\n",
        "print(num)"
      ],
      "metadata": {
        "colab": {
          "base_uri": "https://localhost:8080/"
        },
        "id": "kkPc7NtENI7E",
        "outputId": "6aed3493-38a4-4b4b-ec34-4d29881f532f"
      },
      "execution_count": null,
      "outputs": [
        {
          "output_type": "stream",
          "name": "stdout",
          "text": [
            "[10, 9, 8, 7, 6, 5, 4, 3, 2, 1]\n"
          ]
        }
      ]
    },
    {
      "cell_type": "code",
      "source": [
        "#prints the string in reverse order \n",
        "#prints in a sorted order\n",
        "str=['m','o','u','n','i']\n",
        "str.reverse()\n",
        "print(str)\n",
        "str.sort()\n",
        "print(str)"
      ],
      "metadata": {
        "colab": {
          "base_uri": "https://localhost:8080/"
        },
        "id": "b4JMAtdHOM4k",
        "outputId": "3abb9abc-f912-40d8-9ca3-36dec328edf0"
      },
      "execution_count": null,
      "outputs": [
        {
          "output_type": "stream",
          "name": "stdout",
          "text": [
            "['i', 'n', 'u', 'o', 'm']\n",
            "['i', 'm', 'n', 'o', 'u']\n"
          ]
        }
      ]
    },
    {
      "cell_type": "code",
      "source": [
        "#prints according to ASCII values\n",
        "a=['1','abc','-14','-7','D','dm']\n",
        "a.sort()\n",
        "print(a)"
      ],
      "metadata": {
        "colab": {
          "base_uri": "https://localhost:8080/"
        },
        "id": "9cK6vroePHpk",
        "outputId": "1e9fe9cc-32c5-46b7-f63d-a34d2cb5c48f"
      },
      "execution_count": null,
      "outputs": [
        {
          "output_type": "stream",
          "name": "stdout",
          "text": [
            "['-14', '-7', '1', 'D', 'abc', 'dm']\n"
          ]
        }
      ]
    },
    {
      "cell_type": "code",
      "source": [
        "txt=['p','r','o','g','r','a','m']\n",
        "txt[2:5]=[]\n",
        "print(txt)"
      ],
      "metadata": {
        "colab": {
          "base_uri": "https://localhost:8080/"
        },
        "id": "6oU-h_eqQmSV",
        "outputId": "27a7af67-9ac3-4cce-ba24-97381b6c4e81"
      },
      "execution_count": null,
      "outputs": [
        {
          "output_type": "stream",
          "name": "stdout",
          "text": [
            "['p', 'r', 'a', 'm']\n"
          ]
        }
      ]
    },
    {
      "cell_type": "code",
      "source": [
        "# WRITE A PROGRAM TO CREATE A LIST OF CUBES FOR GIVEN NUMBER\n",
        "# N=10\n",
        "cubes=[i**3 for i in range(11)]\n",
        "print(cubes)"
      ],
      "metadata": {
        "colab": {
          "base_uri": "https://localhost:8080/"
        },
        "id": "EqdXQ6SwRAPi",
        "outputId": "2ffae571-0bc9-4be1-a1ac-52ea084ad63d"
      },
      "execution_count": null,
      "outputs": [
        {
          "output_type": "stream",
          "name": "stdout",
          "text": [
            "[0, 1, 8, 27, 64, 125, 216, 343, 512, 729, 1000]\n"
          ]
        }
      ]
    },
    {
      "cell_type": "code",
      "source": [
        "list=[1,2,3,4]\n",
        "index=0\n",
        "for i in list:\n",
        "  print(\"index [\" ,index, \"]=\",i)\n",
        "  index=index+1"
      ],
      "metadata": {
        "colab": {
          "base_uri": "https://localhost:8080/"
        },
        "id": "Tj-9zT66SkvD",
        "outputId": "056e3906-ee3f-4cb1-d3af-b820e414a52f"
      },
      "execution_count": null,
      "outputs": [
        {
          "output_type": "stream",
          "name": "stdout",
          "text": [
            "index [ 0 ]= 1\n",
            "index [ 1 ]= 2\n",
            "index [ 2 ]= 3\n",
            "index [ 3 ]= 4\n"
          ]
        }
      ]
    },
    {
      "cell_type": "code",
      "source": [
        "n=int(input())\n",
        "if n!=0 and n<7000:\n",
        "  if n<=2000:\n",
        "    print(\"25 minutes\")\n",
        "    if n==2001 and n<=4000:\n",
        "       print(\"35 minutes\")\n",
        "       if n>4000:\n",
        "         print(\"45 minutes\")\n",
        "else:\n",
        "  print(\"INVALID INPUT\")"
      ],
      "metadata": {
        "colab": {
          "base_uri": "https://localhost:8080/"
        },
        "id": "PpD33YITU0PC",
        "outputId": "82c38884-3c3f-447a-ef06-e1ad61bf6437"
      },
      "execution_count": null,
      "outputs": [
        {
          "output_type": "stream",
          "name": "stdout",
          "text": [
            "2000\n",
            "25 minutes\n"
          ]
        }
      ]
    },
    {
      "cell_type": "code",
      "source": [
        "#FIND 15TH TERM AND 16TH TERM 0,0,7,6,14,12,21,.........................................n\n",
        "n=int(input(\"enter the term to be found:\"))\n",
        "i=n//2\n",
        "if n%2==0 and i!=1: \n",
        "  term=i*6\n",
        "elif i==1:\n",
        "  term=0\n",
        "else:\n",
        "  term=i*7\n",
        "print(term)"
      ],
      "metadata": {
        "colab": {
          "base_uri": "https://localhost:8080/"
        },
        "id": "NcYECmFtd0MI",
        "outputId": "d919a7d7-5640-4f51-e250-5e95198360c6"
      },
      "execution_count": null,
      "outputs": [
        {
          "output_type": "stream",
          "name": "stdout",
          "text": [
            "enter the term to be found:2\n",
            "0\n"
          ]
        }
      ]
    }
  ]
}