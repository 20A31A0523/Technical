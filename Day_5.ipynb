{
  "nbformat": 4,
  "nbformat_minor": 0,
  "metadata": {
    "colab": {
      "provenance": [],
      "authorship_tag": "ABX9TyPOKgPvn2KGwho1GL7JrUPg",
      "include_colab_link": true
    },
    "kernelspec": {
      "name": "python3",
      "display_name": "Python 3"
    },
    "language_info": {
      "name": "python"
    }
  },
  "cells": [
    {
      "cell_type": "markdown",
      "metadata": {
        "id": "view-in-github",
        "colab_type": "text"
      },
      "source": [
        "<a href=\"https://colab.research.google.com/github/20A31A0523/Technical/blob/main/Day_5.ipynb\" target=\"_parent\"><img src=\"https://colab.research.google.com/assets/colab-badge.svg\" alt=\"Open In Colab\"/></a>"
      ]
    },
    {
      "cell_type": "code",
      "execution_count": null,
      "metadata": {
        "colab": {
          "base_uri": "https://localhost:8080/"
        },
        "id": "DekImygsVABp",
        "outputId": "98db1a9d-3d1e-4ca8-c200-5300ef50fc3f"
      },
      "outputs": [
        {
          "output_type": "stream",
          "name": "stdout",
          "text": [
            "{1, 2, 3, 4, 5}\n",
            "<class 'set'>\n"
          ]
        }
      ],
      "source": [
        " #SETS\n",
        " s={1,2,3,4,5,1,2,3,4,5}\n",
        " print(s)\n",
        " print(type(s))"
      ]
    },
    {
      "cell_type": "code",
      "source": [
        "s=\"123\"\n",
        "n=int(s)\n",
        "print(n)"
      ],
      "metadata": {
        "colab": {
          "base_uri": "https://localhost:8080/"
        },
        "id": "XuJm5cjXaPbG",
        "outputId": "2ec3fcfb-06ff-46e1-a2e9-a2f17b76db8f"
      },
      "execution_count": null,
      "outputs": [
        {
          "output_type": "stream",
          "name": "stdout",
          "text": [
            "123\n"
          ]
        }
      ]
    },
    {
      "cell_type": "code",
      "source": [
        "student={\n",
        "    \"name\":\"divya\",\n",
        "    \"section\":\"CSE\",\n",
        "    \"age\":20\n",
        "}\n",
        "print(student)"
      ],
      "metadata": {
        "colab": {
          "base_uri": "https://localhost:8080/"
        },
        "id": "hYAfufD_afX1",
        "outputId": "f9d82f07-7ac0-4712-af0f-811680ee5788"
      },
      "execution_count": null,
      "outputs": [
        {
          "output_type": "stream",
          "name": "stdout",
          "text": [
            "{'name': 'divya', 'section': 'CSE', 'age': 20}\n"
          ]
        }
      ]
    },
    {
      "cell_type": "code",
      "source": [
        "student={}\n",
        "student.update({\n",
        "    1:\"divya\",\n",
        "    2:\"CSE\",\n",
        "    3:20\n",
        "})\n",
        "print(student)\n",
        "print(student[1])"
      ],
      "metadata": {
        "colab": {
          "base_uri": "https://localhost:8080/"
        },
        "id": "qFgbOKhKcErj",
        "outputId": "c117658f-d99c-4ff9-c3e7-a1cc40c4153b"
      },
      "execution_count": null,
      "outputs": [
        {
          "output_type": "stream",
          "name": "stdout",
          "text": [
            "{1: 'divya', 2: 'CSE', 3: 20}\n",
            "divya\n"
          ]
        }
      ]
    },
    {
      "cell_type": "code",
      "source": [
        "student={\n",
        "    \"name\":\"divya\",\n",
        "    \"section\":\"CSE\",\n",
        "    \"age\":20\n",
        "}\n",
        "print(student['name'])\n",
        "print(student['section'])\n",
        "print(student['age'])"
      ],
      "metadata": {
        "colab": {
          "base_uri": "https://localhost:8080/"
        },
        "id": "rvJpXZ4WddM0",
        "outputId": "96d226d1-f8c4-4e05-f5ed-62e32010cd22"
      },
      "execution_count": null,
      "outputs": [
        {
          "output_type": "stream",
          "name": "stdout",
          "text": [
            "divya\n",
            "CSE\n",
            "20\n"
          ]
        }
      ]
    },
    {
      "cell_type": "code",
      "source": [
        "student={\n",
        "    \"name\":\"divya\",\n",
        "    \"section\":\"CSE\",\n",
        "    \"age\":20\n",
        "}\n",
        "student['age']=35\n",
        "print(student.keys())\n",
        "print(student.values())\n",
        "print(student.items())"
      ],
      "metadata": {
        "colab": {
          "base_uri": "https://localhost:8080/"
        },
        "id": "KYsyEX6meVH1",
        "outputId": "25de6153-a3a1-4b20-eacb-2d94af0a9600"
      },
      "execution_count": null,
      "outputs": [
        {
          "output_type": "stream",
          "name": "stdout",
          "text": [
            "dict_keys(['name', 'section', 'age'])\n",
            "dict_values(['divya', 'CSE', 35])\n",
            "dict_items([('name', 'divya'), ('section', 'CSE'), ('age', 35)])\n"
          ]
        }
      ]
    },
    {
      "cell_type": "code",
      "source": [
        "n=int(input(\"enter username:\"))\n",
        "p=int(input(\"enter password:\"))\n",
        "student={}\n",
        "student.update({\n",
        "    \"username\":\"mou\",\n",
        "    \"password\": 124\n",
        "})\n",
        "if \"n,p\" in student():\n",
        "   print(\"valid user\")\n",
        "else:\n",
        "   print(\"invalid user\")"
      ],
      "metadata": {
        "id": "fNhBadDOfEKL"
      },
      "execution_count": null,
      "outputs": []
    },
    {
      "cell_type": "code",
      "source": [
        "#FUNCTIONS\n",
        "def fun_name():\n",
        "  print(\"sample function\")\n",
        "fun_name()"
      ],
      "metadata": {
        "colab": {
          "base_uri": "https://localhost:8080/"
        },
        "id": "FsC2R7uSiaXq",
        "outputId": "90e5eddd-ed13-4f85-dca0-da55bcb29748"
      },
      "execution_count": null,
      "outputs": [
        {
          "output_type": "stream",
          "name": "stdout",
          "text": [
            "sample function\n"
          ]
        }
      ]
    },
    {
      "cell_type": "code",
      "source": [
        "#regular function\n",
        "def fun_name(num1,num2):\n",
        "  print(\"ans:\", num1*num2)\n",
        "fun_name(10,20)"
      ],
      "metadata": {
        "colab": {
          "base_uri": "https://localhost:8080/"
        },
        "id": "gL-EtqQPjKZK",
        "outputId": "5da41483-bde5-4e84-b1da-12911e52866c"
      },
      "execution_count": null,
      "outputs": [
        {
          "output_type": "stream",
          "name": "stdout",
          "text": [
            "ans: 200\n"
          ]
        }
      ]
    },
    {
      "cell_type": "code",
      "source": [
        "def fun_name(num1,num2,np):\n",
        "  if np==\"+\":\n",
        "    print(num1+num2)\n",
        "  elif np==\"-\":\n",
        "    print(num1-num2)\n",
        "  elif np==\"*\":\n",
        "    print(num1*num2)\n",
        "fun_name(10,20,\"*\")"
      ],
      "metadata": {
        "colab": {
          "base_uri": "https://localhost:8080/"
        },
        "id": "RQa_8nXym7OO",
        "outputId": "7295f1a5-ad2a-4f48-ccdd-b36eae7f09df"
      },
      "execution_count": null,
      "outputs": [
        {
          "output_type": "stream",
          "name": "stdout",
          "text": [
            "200\n"
          ]
        }
      ]
    },
    {
      "cell_type": "code",
      "source": [
        "#FIND THE SUM OF AN ARRAY USING FUNCTIONS\n",
        "def fun_name(arr):\n",
        "  sum=0\n",
        "  for i in range(len(arr)):\n",
        "    sum=sum+arr[i]\n",
        "  return sum\n",
        "arr=[1,2,3,4,5]\n",
        "fun_name(arr)"
      ],
      "metadata": {
        "id": "VsRs7f9YoJSY",
        "colab": {
          "base_uri": "https://localhost:8080/"
        },
        "outputId": "fad72076-2a9d-4b45-ac90-60c91317ae24"
      },
      "execution_count": null,
      "outputs": [
        {
          "output_type": "execute_result",
          "data": {
            "text/plain": [
              "15"
            ]
          },
          "metadata": {},
          "execution_count": 37
        }
      ]
    },
    {
      "cell_type": "code",
      "source": [
        "#TYPES OF FUNCTIONS\n",
        "#regular\n",
        "#default value\n",
        "#keyword argument \n",
        "#variable length "
      ],
      "metadata": {
        "id": "mjAlk_gJsAOp"
      },
      "execution_count": null,
      "outputs": []
    },
    {
      "cell_type": "code",
      "source": [
        "#default value function\n",
        "def hello(a,b,c=0):\n",
        "  print(a)\n",
        "  print(b)\n",
        "  print(c)\n",
        "hello(2,4)\n",
        "hello(2,4,6)"
      ],
      "metadata": {
        "colab": {
          "base_uri": "https://localhost:8080/"
        },
        "id": "eftvAlR4uTyV",
        "outputId": "008fd1b1-7279-4c7c-c4eb-70d8511dfac9"
      },
      "execution_count": null,
      "outputs": [
        {
          "output_type": "stream",
          "name": "stdout",
          "text": [
            "2\n",
            "4\n",
            "0\n",
            "2\n",
            "4\n",
            "6\n"
          ]
        }
      ]
    },
    {
      "cell_type": "code",
      "source": [
        "#keyword argument\n",
        "def hello(a,b,c=0):\n",
        "  print(a)\n",
        "  print(b)\n",
        "  print(c)\n",
        "hello(b=10,a=20,c=30)"
      ],
      "metadata": {
        "colab": {
          "base_uri": "https://localhost:8080/"
        },
        "id": "0Sk8WSX5vPal",
        "outputId": "0d7d360f-45d5-4a62-97e6-66470a2f5f5b"
      },
      "execution_count": null,
      "outputs": [
        {
          "output_type": "stream",
          "name": "stdout",
          "text": [
            "20\n",
            "10\n",
            "30\n"
          ]
        }
      ]
    },
    {
      "cell_type": "code",
      "source": [
        "#variable length\n",
        "def hello(*variable):\n",
        "  print(variable)\n",
        "hello(10,20)\n",
        "hello(10,20,30)\n",
        "hello(10,2,4,6,8)\n",
        "hello()"
      ],
      "metadata": {
        "colab": {
          "base_uri": "https://localhost:8080/"
        },
        "id": "gSfEJGVLvb90",
        "outputId": "2ef690ba-82d6-4099-80a8-2d16ae180c64"
      },
      "execution_count": null,
      "outputs": [
        {
          "output_type": "stream",
          "name": "stdout",
          "text": [
            "(10, 20)\n",
            "(10, 20, 30)\n",
            "(10, 2, 4, 6, 8)\n",
            "()\n"
          ]
        }
      ]
    },
    {
      "cell_type": "code",
      "source": [
        "#STRING FORMATTING\n",
        "#method 1\n",
        "name=\"deekshith\"\n",
        "age=20\n",
        "id=\"abc14\"\n",
        "print(\"hello {} your age is {} and id is {}\".format(name,age,id))"
      ],
      "metadata": {
        "colab": {
          "base_uri": "https://localhost:8080/"
        },
        "id": "0W5_LQEvKczD",
        "outputId": "1c7843b4-08a0-408e-daad-e37d3f3337ac"
      },
      "execution_count": null,
      "outputs": [
        {
          "output_type": "stream",
          "name": "stdout",
          "text": [
            "hello deekshith your age is 20 and id is abc14\n"
          ]
        }
      ]
    },
    {
      "cell_type": "code",
      "source": [
        "#METHOD 2\n",
        "name=\"deekshith\"\n",
        "age=20\n",
        "id=\"abc14\"\n",
        "print(f\"hello {name},your age is {age},id is {id}\")"
      ],
      "metadata": {
        "colab": {
          "base_uri": "https://localhost:8080/"
        },
        "id": "V2CE_JerL-_F",
        "outputId": "cc14aa22-403a-45af-e2b5-045463bed7ce"
      },
      "execution_count": null,
      "outputs": [
        {
          "output_type": "stream",
          "name": "stdout",
          "text": [
            "hello deekshith,your age is 20,id is abc14\n"
          ]
        }
      ]
    },
    {
      "cell_type": "code",
      "source": [
        "#OOPS\n",
        "#class  -----> collection of properties or functionality of a real world entity\n",
        "#methods  \n",
        "#object"
      ],
      "metadata": {
        "id": "fx6jBYowGsQh"
      },
      "execution_count": null,
      "outputs": []
    },
    {
      "cell_type": "code",
      "source": [
        "class student:\n",
        "  name=\"mouu\"\n",
        "  age=19\n",
        "  s_class=\"cse-a\"\n",
        "  year=3\n",
        "ob1=student()\n",
        "print(ob1.name)\n",
        "print(ob1.age)\n",
        "print(ob1.s_class)"
      ],
      "metadata": {
        "id": "iVYojjTBIntd",
        "colab": {
          "base_uri": "https://localhost:8080/"
        },
        "outputId": "7363561b-c1b0-4b9c-e0ac-55e4ef52669a"
      },
      "execution_count": null,
      "outputs": [
        {
          "output_type": "stream",
          "name": "stdout",
          "text": [
            "mouu\n",
            "19\n",
            "cse-a\n"
          ]
        }
      ]
    },
    {
      "cell_type": "code",
      "source": [
        "class student:\n",
        "  name=\"mouu\"\n",
        "  roll=\"ab23\"\n",
        "  def print_details(self):                                     #self---------------> refers to the class\n",
        "    print(f\"name: {self.name} and roll: {self.roll}\")\n",
        "ob1=student()\n",
        "ob1.print_details()"
      ],
      "metadata": {
        "id": "Nr_ANF34KAR8",
        "colab": {
          "base_uri": "https://localhost:8080/"
        },
        "outputId": "0b07eec3-3c9a-497e-9e16-b6177d65db5f"
      },
      "execution_count": null,
      "outputs": [
        {
          "output_type": "stream",
          "name": "stdout",
          "text": [
            "name: mouu and roll: ab23\n"
          ]
        }
      ]
    },
    {
      "cell_type": "code",
      "source": [
        "#CONSTRUCTOR---------------> __init__\n",
        "class student:\n",
        "  def __init__(self,name,roll):  \n",
        "    self.s_name=name\n",
        "    self.s_roll=roll\n",
        "    print(name,roll)\n",
        "  def print_details(self):                                    \n",
        "    print(f\"name: {self.name} and roll: {self.roll}\")\n",
        "ob1=student(\"student_name\",1001)\n",
        "ob2=student(\"student_name\",1002)\n",
        "ob3=student(\"student_name\",1003) "
      ],
      "metadata": {
        "colab": {
          "base_uri": "https://localhost:8080/"
        },
        "id": "ES2uQjt-RTOW",
        "outputId": "66d219a3-668b-4fdc-92d7-71bc004eaf39"
      },
      "execution_count": null,
      "outputs": [
        {
          "output_type": "stream",
          "name": "stdout",
          "text": [
            "student_name 1001\n",
            "student_name 1002\n",
            "student_name 1003\n"
          ]
        }
      ]
    }
  ]
}