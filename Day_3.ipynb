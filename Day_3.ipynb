{
  "nbformat": 4,
  "nbformat_minor": 0,
  "metadata": {
    "colab": {
      "provenance": [],
      "authorship_tag": "ABX9TyPweqFBuxhxbknsB1VWpd4j",
      "include_colab_link": true
    },
    "kernelspec": {
      "name": "python3",
      "display_name": "Python 3"
    },
    "language_info": {
      "name": "python"
    }
  },
  "cells": [
    {
      "cell_type": "markdown",
      "metadata": {
        "id": "view-in-github",
        "colab_type": "text"
      },
      "source": [
        "<a href=\"https://colab.research.google.com/github/20A31A0523/Technical/blob/main/Day_3.ipynb\" target=\"_parent\"><img src=\"https://colab.research.google.com/assets/colab-badge.svg\" alt=\"Open In Colab\"/></a>"
      ]
    },
    {
      "cell_type": "code",
      "execution_count": null,
      "metadata": {
        "id": "9dznrZKMICjK",
        "colab": {
          "base_uri": "https://localhost:8080/"
        },
        "outputId": "e7f38cde-72dc-484d-fba6-025ec994436d"
      },
      "outputs": [
        {
          "output_type": "stream",
          "name": "stdout",
          "text": [
            "message[ 0 ]= m\n",
            "message[ 1 ]= o\n",
            "message[ 2 ]= u\n",
            "message[ 3 ]= n\n",
            "message[ 4 ]= i\n"
          ]
        }
      ],
      "source": [
        "# STRINGS BASIC FORMAT\n",
        "txt='mouni'\n",
        "index=0\n",
        "for i in txt:\n",
        "  print(\"message[\",index,\"]=\",i)\n",
        "  index+=1"
      ]
    },
    {
      "cell_type": "code",
      "source": [
        "# STRING FUNCTIONS\n",
        "txt='lion king'\n",
        "print(txt.title())\n",
        "print(txt.upper())\n",
        "print(txt.lower())"
      ],
      "metadata": {
        "colab": {
          "base_uri": "https://localhost:8080/"
        },
        "id": "SkLLZ1Sway2q",
        "outputId": "99399d97-78c4-465a-918e-b8a77dffa052"
      },
      "execution_count": null,
      "outputs": [
        {
          "output_type": "stream",
          "name": "stdout",
          "text": [
            "Lion King\n",
            "LION KING\n",
            "lion king\n"
          ]
        }
      ]
    },
    {
      "cell_type": "code",
      "source": [
        "# zfill function\n",
        "txt='6'\n",
        "print(txt.zfill(10))"
      ],
      "metadata": {
        "colab": {
          "base_uri": "https://localhost:8080/"
        },
        "id": "TkE2RRXucUH5",
        "outputId": "4203f29d-638d-48a5-eae8-e00e1e592c81"
      },
      "execution_count": null,
      "outputs": [
        {
          "output_type": "stream",
          "name": "stdout",
          "text": [
            "0000000006\n"
          ]
        }
      ]
    },
    {
      "cell_type": "code",
      "source": [
        "#ARMSTRONG\n",
        "n=int(input())\n",
        "s=0\n",
        "while n!=0:\n",
        "  r=n%10\n",
        "  s+=(r*r*r)\n",
        "  n=n//10\n",
        "if s==n:\n",
        "  print(\"armstrong number\")\n",
        "else:\n",
        "  print(\"not armstrong number\")\n"
      ],
      "metadata": {
        "colab": {
          "base_uri": "https://localhost:8080/"
        },
        "id": "GW3qTSBtiGPr",
        "outputId": "558ed944-4d2f-452e-db99-5e8eef261ee6"
      },
      "execution_count": null,
      "outputs": [
        {
          "output_type": "stream",
          "name": "stdout",
          "text": [
            "371\n",
            "not armstrong number\n"
          ]
        }
      ]
    },
    {
      "cell_type": "code",
      "source": [
        "#lstrip\n",
        "txt='  byee prndsss  '\n",
        "print(txt.lstrip())"
      ],
      "metadata": {
        "colab": {
          "base_uri": "https://localhost:8080/"
        },
        "id": "rxYHXVeQkz-0",
        "outputId": "751297cc-d30a-4d55-bc80-c23c208c5ff5"
      },
      "execution_count": null,
      "outputs": [
        {
          "output_type": "stream",
          "name": "stdout",
          "text": [
            "byee prndsss  \n"
          ]
        }
      ]
    },
    {
      "cell_type": "code",
      "source": [
        "txt='mouni'\n",
        "print(max(txt))"
      ],
      "metadata": {
        "colab": {
          "base_uri": "https://localhost:8080/"
        },
        "id": "XT3jBVV4lPR7",
        "outputId": "766801aa-ef62-4eea-85da-fa033e33eac5"
      },
      "execution_count": null,
      "outputs": [
        {
          "output_type": "stream",
          "name": "stdout",
          "text": [
            "u\n"
          ]
        }
      ]
    },
    {
      "cell_type": "code",
      "source": [
        "txt='mouni'\n",
        "print(min(txt))"
      ],
      "metadata": {
        "colab": {
          "base_uri": "https://localhost:8080/"
        },
        "id": "krokY-gqlqee",
        "outputId": "c340a053-272c-4014-8caf-8870ef12adf0"
      },
      "execution_count": null,
      "outputs": [
        {
          "output_type": "stream",
          "name": "stdout",
          "text": [
            "i\n"
          ]
        }
      ]
    },
    {
      "cell_type": "code",
      "source": [
        "txt='md md md md md'\n",
        "print(txt.replace('m','d'))"
      ],
      "metadata": {
        "colab": {
          "base_uri": "https://localhost:8080/"
        },
        "id": "Wi15pj7-lqju",
        "outputId": "f28ccd5e-b044-47d1-e15f-626c9c9284c7"
      },
      "execution_count": null,
      "outputs": [
        {
          "output_type": "stream",
          "name": "stdout",
          "text": [
            "dd dd dd dd dd\n"
          ]
        }
      ]
    },
    {
      "cell_type": "code",
      "source": [
        "txt='Mouni And Sailu'\n",
        "print(txt.swapcase())"
      ],
      "metadata": {
        "colab": {
          "base_uri": "https://localhost:8080/"
        },
        "id": "yvWTAkE7nA7s",
        "outputId": "ebb74db4-8e7a-4e6c-c08e-f102fbc3b611"
      },
      "execution_count": null,
      "outputs": [
        {
          "output_type": "stream",
          "name": "stdout",
          "text": [
            "mOUNI aND sAILU\n"
          ]
        }
      ]
    },
    {
      "cell_type": "code",
      "source": [
        "#split\n",
        "txt='abc,def,ghi,jkl'\n",
        "print(txt.split(','))"
      ],
      "metadata": {
        "colab": {
          "base_uri": "https://localhost:8080/"
        },
        "id": "AXQLTOcUoNeo",
        "outputId": "2409cc65-dc67-41e1-dce3-a5023fc4c368"
      },
      "execution_count": null,
      "outputs": [
        {
          "output_type": "stream",
          "name": "stdout",
          "text": [
            "['abc', 'def', 'ghi', 'jkl']\n"
          ]
        }
      ]
    },
    {
      "cell_type": "code",
      "source": [
        "#join\n",
        "print('-'.join(['abc','def','ghi','jkl']))"
      ],
      "metadata": {
        "colab": {
          "base_uri": "https://localhost:8080/"
        },
        "id": "aoJ5rBJNo3W-",
        "outputId": "d6d7ad5e-38ef-4e1a-82d6-f7523a1ce39b"
      },
      "execution_count": null,
      "outputs": [
        {
          "output_type": "stream",
          "name": "stdout",
          "text": [
            "abc-def-ghi-jkl\n"
          ]
        }
      ]
    },
    {
      "cell_type": "code",
      "source": [
        "txt='my name is mouni'\n",
        "print(list(enumerate(txt)))"
      ],
      "metadata": {
        "colab": {
          "base_uri": "https://localhost:8080/"
        },
        "id": "o0_MqAuTpoYF",
        "outputId": "3e41a4c7-dd49-477a-f832-3ac06e59c248"
      },
      "execution_count": null,
      "outputs": [
        {
          "output_type": "stream",
          "name": "stdout",
          "text": [
            "[(0, 'm'), (1, 'y'), (2, ' '), (3, 'n'), (4, 'a'), (5, 'm'), (6, 'e'), (7, ' '), (8, 'i'), (9, 's'), (10, ' '), (11, 'm'), (12, 'o'), (13, 'u'), (14, 'n'), (15, 'i')]\n"
          ]
        }
      ]
    },
    {
      "cell_type": "code",
      "source": [
        "txt='18pages'\n",
        "print(txt.isalnum())\n",
        "print(txt.isdigit())"
      ],
      "metadata": {
        "colab": {
          "base_uri": "https://localhost:8080/"
        },
        "id": "eJppuWNmqw5M",
        "outputId": "7a8fc75d-ce47-4acc-bd9b-5b3a6e981216"
      },
      "execution_count": null,
      "outputs": [
        {
          "output_type": "stream",
          "name": "stdout",
          "text": [
            "True\n",
            "False\n"
          ]
        }
      ]
    },
    {
      "cell_type": "code",
      "source": [
        "txt='         '\n",
        "print(txt.isspace())"
      ],
      "metadata": {
        "colab": {
          "base_uri": "https://localhost:8080/"
        },
        "id": "Hetpy0kQr2QP",
        "outputId": "633c7921-1488-41a8-cc24-121a4a766423"
      },
      "execution_count": null,
      "outputs": [
        {
          "output_type": "stream",
          "name": "stdout",
          "text": [
            "True\n"
          ]
        }
      ]
    },
    {
      "cell_type": "code",
      "source": [
        "txt=\"mouni\"\n",
        "print(txt.ljust(10,'%'))\n",
        "print(txt.rjust(10,'%'))\n",
        "print(txt.center(20,'%'))"
      ],
      "metadata": {
        "colab": {
          "base_uri": "https://localhost:8080/"
        },
        "id": "IgsDV_AVsTsj",
        "outputId": "f61175e3-29ce-4f05-e82d-04fa20db4949"
      },
      "execution_count": null,
      "outputs": [
        {
          "output_type": "stream",
          "name": "stdout",
          "text": [
            "mouni%%%%%\n",
            "%%%%%mouni\n",
            "%%%%%%%mouni%%%%%%%%\n"
          ]
        }
      ]
    },
    {
      "cell_type": "code",
      "source": [
        "txt='light'\n",
        "print(txt)\n",
        "print(txt[1:5])\n",
        "print(txt[:6])\n",
        "print(txt[:])\n",
        "print(txt[-4])"
      ],
      "metadata": {
        "colab": {
          "base_uri": "https://localhost:8080/"
        },
        "id": "WtE48aRUKSP4",
        "outputId": "46699965-d978-4485-d8b3-c237843b74d2"
      },
      "execution_count": null,
      "outputs": [
        {
          "output_type": "stream",
          "name": "stdout",
          "text": [
            "light\n",
            "ight\n",
            "light\n",
            "light\n",
            "i\n"
          ]
        }
      ]
    },
    {
      "cell_type": "code",
      "source": [
        "txt='barish'\n",
        "print(txt[::-1])\n",
        "print(txt[::3])"
      ],
      "metadata": {
        "colab": {
          "base_uri": "https://localhost:8080/"
        },
        "id": "e93dPRHALCpK",
        "outputId": "f3fed2de-8ec3-4b13-bfaf-3dbdd235683b"
      },
      "execution_count": null,
      "outputs": [
        {
          "output_type": "stream",
          "name": "stdout",
          "text": [
            "hsirab\n",
            "bi\n"
          ]
        }
      ]
    },
    {
      "cell_type": "code",
      "source": [
        "txt='india is great'\n",
        "for i in txt:\n",
        "  print(i,end=\" \")"
      ],
      "metadata": {
        "colab": {
          "base_uri": "https://localhost:8080/"
        },
        "id": "usesmd5BLS4C",
        "outputId": "2a76a572-98e0-4953-fac8-675d834cef56"
      },
      "execution_count": null,
      "outputs": [
        {
          "output_type": "stream",
          "name": "stdout",
          "text": [
            "i n d i a   i s   g r e a t "
          ]
        }
      ]
    },
    {
      "cell_type": "code",
      "source": [
        "txt1='india is great'\n",
        "txt2='is'\n",
        "if txt2 in txt1:\n",
        "  print(\"found\")\n",
        "else:\n",
        "  print(\"not found\")\n"
      ],
      "metadata": {
        "colab": {
          "base_uri": "https://localhost:8080/"
        },
        "id": "DBqf3S989AQR",
        "outputId": "605edd2f-5dcb-48f5-abcf-83cc4906e92e"
      },
      "execution_count": null,
      "outputs": [
        {
          "output_type": "stream",
          "name": "stdout",
          "text": [
            "found\n"
          ]
        }
      ]
    },
    {
      "cell_type": "code",
      "source": [
        "txt='india is great'\n",
        "i=0\n",
        "while i<len(txt):\n",
        "  letter=txt[i]\n",
        "  print(letter,end=\" \")\n",
        "  i=i+1\n"
      ],
      "metadata": {
        "colab": {
          "base_uri": "https://localhost:8080/"
        },
        "id": "5wB8YQhvLk2K",
        "outputId": "01860a1a-a31a-4065-eb2a-af3712c15121"
      },
      "execution_count": null,
      "outputs": [
        {
          "output_type": "stream",
          "name": "stdout",
          "text": [
            "i n d i a   i s   g r e a t "
          ]
        }
      ]
    },
    {
      "cell_type": "code",
      "source": [
        "n=int(input())\n",
        "for i in range(1,n+1):\n",
        "  ch='A'\n",
        "  print()\n",
        "  for j in range(1,i+1):\n",
        "    print(ch,end=' ')\n",
        "    ch=chr(ord(ch)+i)"
      ],
      "metadata": {
        "colab": {
          "base_uri": "https://localhost:8080/"
        },
        "id": "OgROfND8Mrqb",
        "outputId": "f939625c-d596-4a60-b6b0-97770707735f"
      },
      "execution_count": null,
      "outputs": [
        {
          "output_type": "stream",
          "name": "stdout",
          "text": [
            "14\n",
            "\n",
            "A \n",
            "A C \n",
            "A D G \n",
            "A E I M \n",
            "A F K P U \n",
            "A G M S Y _ \n",
            "A H O V ] d k \n",
            "A I Q Y a i q y \n",
            "A J S \\ e n w   \n",
            "A K U _ i s }    \n",
            "A L W b m x    ¤ ¯ \n",
            "A M Y e q }   ¡ ­ ¹ Å \n",
            "A N [ h u    © ¶ Ã Ð Ý \n",
            "A O ] k y   £ ± ¿ Í Û é ÷ "
          ]
        }
      ]
    },
    {
      "cell_type": "code",
      "source": [
        "txt='possibilities'\n",
        "print(txt[::-1])\n",
        "print(txt[::3])"
      ],
      "metadata": {
        "colab": {
          "base_uri": "https://localhost:8080/"
        },
        "id": "LXmavzYAOwLF",
        "outputId": "5175d081-6430-499f-8e08-9b0993404ebb"
      },
      "execution_count": null,
      "outputs": [
        {
          "output_type": "stream",
          "name": "stdout",
          "text": [
            "seitilibissop\n",
            "psits\n"
          ]
        }
      ]
    },
    {
      "cell_type": "code",
      "source": [
        "# ARUN IS A RAW AGENT WORKING IN IRAQ FOR INDIA.HE GOT TO KNOW THAT IRAQ IS PLANNING TO ATTACK INDIA.HE NEEDS TO SEND THE DANGER MESSAGE TO INDIA AMBASY IN CYBER CODE.\n",
        "message=\"danger\"\n",
        "i=0\n",
        "while i<len(message):\n",
        "  letter =message[i]\n",
        "  print(chr(ord(letter)+2),end=\" \")\n",
        "  i+=1"
      ],
      "metadata": {
        "id": "urRJwxRBP5O3",
        "colab": {
          "base_uri": "https://localhost:8080/"
        },
        "outputId": "7a801468-ca1c-4222-f0cd-f1b411651d91"
      },
      "execution_count": null,
      "outputs": [
        {
          "output_type": "stream",
          "name": "stdout",
          "text": [
            "f c p i g t "
          ]
        }
      ]
    },
    {
      "cell_type": "code",
      "source": [
        "# LISTS\n",
        "list=[1, 2, 3, 4, 5, 6, 7, 8, 9, 10]\n",
        "print(list)\n",
        "print(list[7])\n",
        "print(list[2:5])\n",
        "print(list[::2])\n",
        "print(list[1::3])\n",
        "list[5]=100\n",
        "print(list)\n",
        "list.append(100)\n",
        "print(list)"
      ],
      "metadata": {
        "colab": {
          "base_uri": "https://localhost:8080/"
        },
        "id": "vSXJOtNBbM_d",
        "outputId": "e25c9f51-2065-4a37-a18e-3b47abed3b6c"
      },
      "execution_count": null,
      "outputs": [
        {
          "output_type": "stream",
          "name": "stdout",
          "text": [
            "[1, 2, 3, 4, 5, 6, 7, 8, 9, 10]\n",
            "8\n",
            "[3, 4, 5]\n",
            "[1, 3, 5, 7, 9]\n",
            "[2, 5, 8]\n",
            "[1, 2, 3, 4, 5, 100, 7, 8, 9, 10]\n",
            "[1, 2, 3, 4, 5, 100, 7, 8, 9, 10, 100]\n"
          ]
        }
      ]
    }
  ]
}