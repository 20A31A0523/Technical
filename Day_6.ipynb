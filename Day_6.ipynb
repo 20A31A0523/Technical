{
  "nbformat": 4,
  "nbformat_minor": 0,
  "metadata": {
    "colab": {
      "provenance": [],
      "authorship_tag": "ABX9TyO1ZgWHa/6J90ZRugcD0M4r",
      "include_colab_link": true
    },
    "kernelspec": {
      "name": "python3",
      "display_name": "Python 3"
    },
    "language_info": {
      "name": "python"
    }
  },
  "cells": [
    {
      "cell_type": "markdown",
      "metadata": {
        "id": "view-in-github",
        "colab_type": "text"
      },
      "source": [
        "<a href=\"https://colab.research.google.com/github/20A31A0523/Technical/blob/main/Day_6.ipynb\" target=\"_parent\"><img src=\"https://colab.research.google.com/assets/colab-badge.svg\" alt=\"Open In Colab\"/></a>"
      ]
    },
    {
      "cell_type": "code",
      "execution_count": 5,
      "metadata": {
        "id": "LgXQrbT7dcUP",
        "colab": {
          "base_uri": "https://localhost:8080/"
        },
        "outputId": "43637ed7-f546-49b4-e0c8-133a83d7dd8f"
      },
      "outputs": [
        {
          "output_type": "stream",
          "name": "stdout",
          "text": [
            "this is parent class\n",
            "thi is child class\n"
          ]
        }
      ],
      "source": [
        "#single inheritance\n",
        "#syntax\n",
        "class parent:\n",
        "  name=\"parent class\"\n",
        "class child(parent):\n",
        "  name=\"child class\"\n",
        "  \n",
        "#example\n",
        "class parent:\n",
        "  def parent_info(self):\n",
        "    print(\"this is parent class\")\n",
        "class child(parent):\n",
        "  def child_info(self):\n",
        "    print(\"thi is child class\")\n",
        "ob1=child()\n",
        "ob1.parent_info()\n",
        "ob1.child_info()"
      ]
    },
    {
      "cell_type": "code",
      "source": [
        "#multiple inheritance\n",
        "#syntax\n",
        "class A:\n",
        "  var=\"in class A\"\n",
        "class B(A):\n",
        "  var2=\"in class B\"\n",
        "class C(B):\n",
        "  var3=\"in class c\"\n",
        "class D(C):\n",
        "  var4=\"in class d\"\n",
        "\n",
        "#example\n",
        "class father:\n",
        "  def father_info(self):\n",
        "    print(\"parent class A\")\n",
        "class mother:\n",
        "  def mother_info(self):\n",
        "    print(\"parent class B\")\n",
        "class c(father,mother):\n",
        "  pass\n",
        "ob1=c()\n",
        "ob1.father_info()\n",
        "ob1.mother_info()"
      ],
      "metadata": {
        "id": "e574qOn3TBkn",
        "colab": {
          "base_uri": "https://localhost:8080/"
        },
        "outputId": "6b1557fa-2290-4ae8-ae04-faec83dd6378"
      },
      "execution_count": 3,
      "outputs": [
        {
          "output_type": "stream",
          "name": "stdout",
          "text": [
            "parent class A\n",
            "parent class B\n"
          ]
        }
      ]
    },
    {
      "cell_type": "code",
      "source": [
        "#multilevel inheritance\n",
        "class parent:\n",
        "    def parent_info(self):\n",
        "        print(\"parent is the head of the family\")\n",
        "\n",
        "class child:\n",
        "    def child_info(self):\n",
        "        print(\"child inherits properties from parent\")\n",
        "\n",
        "class Bat(parent,child):\n",
        "    pass\n",
        "\n",
        "b1 = Bat()\n",
        "\n",
        "b1.parent_info()\n",
        "b1.child_info()"
      ],
      "metadata": {
        "colab": {
          "base_uri": "https://localhost:8080/"
        },
        "id": "LsMz28ZXT0v_",
        "outputId": "2a739046-136f-4575-da6c-38909637676b"
      },
      "execution_count": null,
      "outputs": [
        {
          "output_type": "stream",
          "name": "stdout",
          "text": [
            "parent is the head of the family\n",
            "child inherits properties from parent\n"
          ]
        }
      ]
    },
    {
      "cell_type": "code",
      "source": [
        "#hierarchial inheritance\n",
        "class chocolate:\n",
        "  def chocolate_info(self):\n",
        "    print(\"chocolate is parent class\")\n",
        "class sweet(chocolate):\n",
        "  def sweet_info(self):\n",
        "    print(\"sweet is child class of chocolate\")\n",
        "class darksweet(chocolate):\n",
        "  def darksweet_info(self):\n",
        "    print(\"darksweet is second child of chocolate\")\n",
        "ob1=sweet()\n",
        "ob2=darksweet()\n",
        "ob1.chocolate_info()\n",
        "ob1.sweet_info()\n",
        "ob2.chocolate_info()\n",
        "ob2.darksweet_info()"
      ],
      "metadata": {
        "colab": {
          "base_uri": "https://localhost:8080/"
        },
        "id": "YvlPdQT4X5ku",
        "outputId": "a9dc5576-02db-41f6-a7ee-f8e499200d9d"
      },
      "execution_count": null,
      "outputs": [
        {
          "output_type": "stream",
          "name": "stdout",
          "text": [
            "chocolate is parent class\n",
            "sweet is child class of chocolate\n",
            "chocolate is parent class\n",
            "darksweet is second child of chocolate\n"
          ]
        }
      ]
    },
    {
      "cell_type": "code",
      "source": [
        "#rock paper scissor\n",
        "import random\n",
        "comp_score=0\n",
        "user_score=0\n",
        "for i in range(5):\n",
        "  arr=[\"rock\",\"paper\",\"scissor\"]\n",
        "  c_choice=arr[random.randint(0,2)]\n",
        "  print(c_choice)\n",
        "  u_choice=input(\"enter choice:\").lower()\n",
        "  if u_choice not in arr:\n",
        "     print(\"invalid choice\")\n",
        "  else:\n",
        "     print(u_choice)\n",
        "     if c_choice==\"rock\" and u_choice==\"scissor\":\n",
        "        print(\"computer won\")\n",
        "        comp_score+=1\n",
        "     elif c_choice==\"paper\" and u_choice==\"rock\":\n",
        "       print(\"computer won\")\n",
        "       comp_score+=1\n",
        "     elif c_choice==\"scissor\" and u_choice==\"paper\":\n",
        "       print(\"computer won\")\n",
        "       comp_score+=1\n",
        "     elif c_choice==u_choice:\n",
        "        print(\"draw match\")\n",
        "     else:\n",
        "       print(\"user won\")\n",
        "       user_score+=1\n",
        "       print(f\"comp:{comp_score}, user:{user_score}\")"
      ],
      "metadata": {
        "colab": {
          "base_uri": "https://localhost:8080/"
        },
        "id": "SnJ-XrP8fYn0",
        "outputId": "8d6e4007-1d27-4ea6-df05-63ac3c176a5a"
      },
      "execution_count": null,
      "outputs": [
        {
          "output_type": "stream",
          "name": "stdout",
          "text": [
            "scissor\n",
            "enter choice:paper\n",
            "paper\n",
            "computer won\n",
            "paper\n",
            "enter choice:rock\n",
            "rock\n",
            "computer won\n",
            "rock\n",
            "enter choice:scissor\n",
            "scissor\n",
            "computer won\n",
            "rock\n",
            "enter choice:rock\n",
            "rock\n",
            "draw match\n",
            "scissor\n",
            "enter choice:rock\n",
            "rock\n",
            "user won\n",
            "comp:3, user:1\n"
          ]
        }
      ]
    },
    {
      "cell_type": "code",
      "source": [
        "#abstract class\n",
        "import abc\n",
        "class student(abc.ABC):\n",
        "  abc.abstractmethod\n",
        "  def say_hello(self):\n",
        "    print(\"hello\")"
      ],
      "metadata": {
        "id": "Cyn2wVn8rvbX"
      },
      "execution_count": null,
      "outputs": []
    },
    {
      "cell_type": "code",
      "source": [
        "from abc import ABC, abstractmethod\n",
        "class login(ABC):\n",
        "  #abstractmethod\n",
        "  def validate(self):\n",
        "    pass\n",
        "  #abstractmethod\n",
        "  def pec_login(self):\n",
        "    pass\n",
        "class insta(login):\n",
        "  def welcome(self):\n",
        "    print(\"welcome to insta\")\n",
        "  def validate(self):\n",
        "    print(\"validate login\")\n",
        "  def validate(self):\n",
        "    print(\"in class insta\")\n",
        "ob=insta()\n",
        "ob.welcome()"
      ],
      "metadata": {
        "colab": {
          "base_uri": "https://localhost:8080/"
        },
        "id": "x2ZYYHbmuTS3",
        "outputId": "2cb2a700-4c4b-4842-bfa8-84333cfc6eb4"
      },
      "execution_count": null,
      "outputs": [
        {
          "output_type": "stream",
          "name": "stdout",
          "text": [
            "welcome to insta\n"
          ]
        }
      ]
    },
    {
      "cell_type": "code",
      "source": [
        "#polymorphism\n",
        "#method overriding \n",
        "class A:\n",
        "  def welcome(self):\n",
        "    print(\"in class A\")\n",
        "class B(A):\n",
        "  def welcome(self):\n",
        "    print(\"in class B\")\n",
        "class C(B):\n",
        "  pass\n",
        "\n",
        "class A:\n",
        "  def welcome(self,a,b):\n",
        "    print(a,b)\n",
        "  def welcome(self,a):\n",
        "    print(a)\n",
        "ob=A()\n",
        "ob.welcome(10)"
      ],
      "metadata": {
        "colab": {
          "base_uri": "https://localhost:8080/"
        },
        "id": "nKuksCNCwJ0G",
        "outputId": "5566a0b6-fe6f-4cc1-d98d-9f04982cd1db"
      },
      "execution_count": null,
      "outputs": [
        {
          "output_type": "stream",
          "name": "stdout",
          "text": [
            "10\n"
          ]
        }
      ]
    },
    {
      "cell_type": "code",
      "source": [
        "#method overloading\n",
        "class A:\n",
        "  def welcome(self,a,b):\n",
        "    print(a,b)\n",
        "  def welcome(self,a):\n",
        "    print(a)\n",
        "  def welcome(self):\n",
        "    print(\"in class a\")\n",
        "ob=A()\n",
        "ob.welcome()\n"
      ],
      "metadata": {
        "colab": {
          "base_uri": "https://localhost:8080/"
        },
        "id": "Yrx-RAxoxw2O",
        "outputId": "c4193f4e-debe-4bc0-a205-f8448f27b069"
      },
      "execution_count": null,
      "outputs": [
        {
          "output_type": "stream",
          "name": "stdout",
          "text": [
            "in class a\n"
          ]
        }
      ]
    }
  ]
}