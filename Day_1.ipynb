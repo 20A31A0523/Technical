{
  "nbformat": 4,
  "nbformat_minor": 0,
  "metadata": {
    "colab": {
      "provenance": [],
      "authorship_tag": "ABX9TyNUhEfFPCtgFt/BqD6o7DPz",
      "include_colab_link": true
    },
    "kernelspec": {
      "name": "python3",
      "display_name": "Python 3"
    },
    "language_info": {
      "name": "python"
    }
  },
  "cells": [
    {
      "cell_type": "markdown",
      "metadata": {
        "id": "view-in-github",
        "colab_type": "text"
      },
      "source": [
        "<a href=\"https://colab.research.google.com/github/20A31A0523/Technical/blob/main/Day_1.ipynb\" target=\"_parent\"><img src=\"https://colab.research.google.com/assets/colab-badge.svg\" alt=\"Open In Colab\"/></a>"
      ]
    },
    {
      "cell_type": "code",
      "execution_count": null,
      "metadata": {
        "colab": {
          "base_uri": "https://localhost:8080/"
        },
        "id": "N6jf1PGxoA6S",
        "outputId": "bae1bf94-7752-4696-def6-a638b925c8dc"
      },
      "outputs": [
        {
          "output_type": "stream",
          "name": "stdout",
          "text": [
            "2\n",
            "4\n",
            "a= 4\n"
          ]
        }
      ],
      "source": [
        "a=int(input())\n",
        "a=int(input())\n",
        "print(\"a=\",a)"
      ]
    },
    {
      "cell_type": "code",
      "source": [
        "print(' mouni '+ '5')\n",
        "print(6+7)\n",
        "print('6' + '7')\n",
        "\n"
      ],
      "metadata": {
        "colab": {
          "base_uri": "https://localhost:8080/"
        },
        "id": "lGSCwmCioQgU",
        "outputId": "052bc34f-c1b2-4821-89e9-a4f5b1fb6546"
      },
      "execution_count": null,
      "outputs": [
        {
          "output_type": "stream",
          "name": "stdout",
          "text": [
            " mouni 5\n",
            "13\n",
            "67\n"
          ]
        }
      ]
    },
    {
      "cell_type": "code",
      "source": [
        "a=10\n",
        "b=20\n",
        "c=a+b\n",
        "print(a)"
      ],
      "metadata": {
        "colab": {
          "base_uri": "https://localhost:8080/"
        },
        "id": "db-UgyKQojJQ",
        "outputId": "f679f76a-6c85-4373-eb52-d467b96be5a2"
      },
      "execution_count": null,
      "outputs": [
        {
          "output_type": "stream",
          "name": "stdout",
          "text": [
            "10\n"
          ]
        }
      ]
    },
    {
      "cell_type": "code",
      "source": [
        "#swapping\n",
        "#write a program to swap two variables by using addition and subtraction\n",
        "a=10                                                                        \n",
        "b=20\n",
        "print(\"before swap\")\n",
        "print(\"a=\",a)\n",
        "print(\"b=\",b)\n",
        "a=a+b\n",
        "b=a-b\n",
        "a=a-b\n",
        "print(\"after swap\")\n",
        "print(\"a=\",a)\n",
        "print(\"b=\",b)"
      ],
      "metadata": {
        "colab": {
          "base_uri": "https://localhost:8080/"
        },
        "id": "XhpXEw7bomu7",
        "outputId": "0829292f-060d-4658-8b95-d81cf6c38fe7"
      },
      "execution_count": null,
      "outputs": [
        {
          "output_type": "stream",
          "name": "stdout",
          "text": [
            "before swap\n",
            "a= 10\n",
            "b= 20\n",
            "after swap\n",
            "a= 20\n",
            "b= 10\n"
          ]
        }
      ]
    },
    {
      "cell_type": "code",
      "source": [
        "#write a program to calculate for area of a triangle by  using heron's formula\n",
        "#formula: s*(s-a)*(s-b)*(s-c)\n",
        "a,b,c=7,14,143\n",
        "s=a+b+c/2\n",
        "area=(s*(s-a)*(s-b)*(s-c))**0.5\n",
        "print(area)\n"
      ],
      "metadata": {
        "colab": {
          "base_uri": "https://localhost:8080/"
        },
        "id": "UBHBZhqyoq9y",
        "outputId": "b65aa3b2-3034-40fa-b7ee-feaf5b1c8d33"
      },
      "execution_count": null,
      "outputs": [
        {
          "output_type": "stream",
          "name": "stdout",
          "text": [
            "(3.428587971901938e-13+5599.309081261723j)\n"
          ]
        }
      ]
    },
    {
      "cell_type": "code",
      "source": [
        "#write a program to calculate circumference of a circle\n",
        "#formula: 2*3.14*r\n",
        "r=int(input())\n",
        "circum=2*3.14*r\n",
        "print(circum)\n"
      ],
      "metadata": {
        "colab": {
          "base_uri": "https://localhost:8080/"
        },
        "id": "Hgb1npu9ouN1",
        "outputId": "df0b99df-42bd-4f36-fe81-98f5b6f6619e"
      },
      "execution_count": null,
      "outputs": [
        {
          "output_type": "stream",
          "name": "stdout",
          "text": [
            "14\n",
            "87.92\n"
          ]
        }
      ]
    },
    {
      "cell_type": "code",
      "source": [
        "#write a program to check whether a number is even or odd\n",
        "a=10\n",
        "if a%2==0:\n",
        "    print(\"a is even\")\n",
        "    print(\"10 is even\")\n"
      ],
      "metadata": {
        "colab": {
          "base_uri": "https://localhost:8080/"
        },
        "id": "eOij-Zuro0eU",
        "outputId": "43bfe977-4b3f-486c-cccf-c945937fba1b"
      },
      "execution_count": null,
      "outputs": [
        {
          "output_type": "stream",
          "name": "stdout",
          "text": [
            "a is even\n",
            "10 is even\n"
          ]
        }
      ]
    },
    {
      "cell_type": "code",
      "source": [
        "#write a program to calculate largest number of two \n",
        "a=int(input(\"enter the a value:\"))\n",
        "b=int(input(\"enter the b value:\"))\n",
        "if a>b:\n",
        "    print(\"a, is maximum\")\n",
        "else:\n",
        "    print(\"b, is maximum\")\n",
        "\n"
      ],
      "metadata": {
        "colab": {
          "base_uri": "https://localhost:8080/"
        },
        "id": "exhkvQlMo3rf",
        "outputId": "1d07998f-46b8-48a3-abee-75e41584c5c6"
      },
      "execution_count": null,
      "outputs": [
        {
          "output_type": "stream",
          "name": "stdout",
          "text": [
            "enter the a value:7\n",
            "enter the b value:14\n",
            "b, is maximum\n"
          ]
        }
      ]
    },
    {
      "cell_type": "code",
      "source": [
        "#write a program to check whether the given number is negative or positive or zero\n",
        "num=int(input())\n",
        "if num<0:\n",
        "    print(num,\"negative\")\n",
        "elif num>0:\n",
        "    print(num,\"positive\")\n",
        "else:\n",
        "    print(num,\"zero\")"
      ],
      "metadata": {
        "id": "6kKsW302pEWk",
        "colab": {
          "base_uri": "https://localhost:8080/"
        },
        "outputId": "fd7cea4c-b81f-44dc-e2a7-4f745847d582"
      },
      "execution_count": null,
      "outputs": [
        {
          "output_type": "stream",
          "name": "stdout",
          "text": [
            "14\n",
            "14 positive\n"
          ]
        }
      ]
    },
    {
      "cell_type": "code",
      "source": [
        "\n",
        "#write a program using nested if to check the number's range in the 10th position \n",
        "#if num=21 then range must be 20-30\n",
        "#if num=7 then range must be 0-10\n",
        "num=int(input())\n",
        "if num>0 and num<10:\n",
        "    print(\"range is 0-10\")\n",
        "if num>=10 and num<20:\n",
        "    print(\"range is 10-20\")\n",
        "if num>=20 and num<30:\n",
        "    print(\"range is 20-30\")"
      ],
      "metadata": {
        "colab": {
          "base_uri": "https://localhost:8080/"
        },
        "id": "RXZJb-07rT1H",
        "outputId": "1b0d389e-d9bb-46b8-80b1-d2eef2d334e8"
      },
      "execution_count": null,
      "outputs": [
        {
          "output_type": "stream",
          "name": "stdout",
          "text": [
            "14\n",
            "range is 10-20\n"
          ]
        }
      ]
    },
    {
      "cell_type": "code",
      "source": [
        "#write a program to check the max number of 3\n",
        "a=int(input(\"enter a value:\"))\n",
        "b=int(input(\"enter b value:\"))\n",
        "c=int(input(\"enter c value:\"))\n",
        "print(a,b,c)\n",
        "if a>b:\n",
        "    if a>c:\n",
        "        print(a,\"is maximum\")\n",
        "    else:\n",
        "         print(c,\"is maximum\")\n",
        "elif b>c:\n",
        "    print(b,\"is maximum\")\n",
        "else:\n",
        "    print(\"all are same\")"
      ],
      "metadata": {
        "colab": {
          "base_uri": "https://localhost:8080/"
        },
        "id": "NIAuby1sriyf",
        "outputId": "56ab34fa-f1e0-4800-c755-3c808774db50"
      },
      "execution_count": null,
      "outputs": [
        {
          "output_type": "stream",
          "name": "stdout",
          "text": [
            "enter a value:7\n",
            "enter b value:14\n",
            "enter c value:43\n",
            "7 14 43\n",
            "all are same\n"
          ]
        }
      ]
    }
  ]
}